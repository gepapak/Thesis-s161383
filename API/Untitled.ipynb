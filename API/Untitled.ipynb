{
 "cells": [
  {
   "cell_type": "code",
   "execution_count": 1,
   "id": "0acb1666-f36e-4ebb-bef3-d23ad7ac9cee",
   "metadata": {},
   "outputs": [
    {
     "name": "stdout",
     "output_type": "stream",
     "text": [
      "📥 Downloading ERA5 wind data (hourly)...\n"
     ]
    },
    {
     "name": "stderr",
     "output_type": "stream",
     "text": [
      "2025-04-17 10:29:10,505 INFO Sending request to https://cds.climate.copernicus.eu/api/v2/resources/reanalysis-era5-single-levels\n"
     ]
    },
    {
     "ename": "Exception",
     "evalue": "Not Found",
     "output_type": "error",
     "traceback": [
      "\u001b[1;31m---------------------------------------------------------------------------\u001b[0m",
      "\u001b[1;31mHTTPError\u001b[0m                                 Traceback (most recent call last)",
      "File \u001b[1;32m~\\anaconda3\\Lib\\site-packages\\cdsapi\\api.py:459\u001b[0m, in \u001b[0;36mClient._api\u001b[1;34m(self, url, request, method)\u001b[0m\n\u001b[0;32m    458\u001b[0m \u001b[38;5;28;01mtry\u001b[39;00m:\n\u001b[1;32m--> 459\u001b[0m     result\u001b[38;5;241m.\u001b[39mraise_for_status()\n\u001b[0;32m    460\u001b[0m     reply \u001b[38;5;241m=\u001b[39m result\u001b[38;5;241m.\u001b[39mjson()\n",
      "File \u001b[1;32m~\\anaconda3\\Lib\\site-packages\\requests\\models.py:1024\u001b[0m, in \u001b[0;36mResponse.raise_for_status\u001b[1;34m(self)\u001b[0m\n\u001b[0;32m   1023\u001b[0m \u001b[38;5;28;01mif\u001b[39;00m http_error_msg:\n\u001b[1;32m-> 1024\u001b[0m     \u001b[38;5;28;01mraise\u001b[39;00m HTTPError(http_error_msg, response\u001b[38;5;241m=\u001b[39m\u001b[38;5;28mself\u001b[39m)\n",
      "\u001b[1;31mHTTPError\u001b[0m: 404 Client Error: Not Found for url: https://cds.climate.copernicus.eu/api/v2/resources/reanalysis-era5-single-levels",
      "\nDuring handling of the above exception, another exception occurred:\n",
      "\u001b[1;31mException\u001b[0m                                 Traceback (most recent call last)",
      "Cell \u001b[1;32mIn[1], line 20\u001b[0m\n\u001b[0;32m     16\u001b[0m netcdf_path \u001b[38;5;241m=\u001b[39m \u001b[38;5;124m'\u001b[39m\u001b[38;5;124moffshore_dk_hourly_2015_2024.nc\u001b[39m\u001b[38;5;124m'\u001b[39m\n\u001b[0;32m     18\u001b[0m \u001b[38;5;28mprint\u001b[39m(\u001b[38;5;124m\"\u001b[39m\u001b[38;5;124m📥 Downloading ERA5 wind data (hourly)...\u001b[39m\u001b[38;5;124m\"\u001b[39m)\n\u001b[1;32m---> 20\u001b[0m c\u001b[38;5;241m.\u001b[39mretrieve(\n\u001b[0;32m     21\u001b[0m     \u001b[38;5;124m'\u001b[39m\u001b[38;5;124mreanalysis-era5-single-levels\u001b[39m\u001b[38;5;124m'\u001b[39m,\n\u001b[0;32m     22\u001b[0m     {\n\u001b[0;32m     23\u001b[0m         \u001b[38;5;124m'\u001b[39m\u001b[38;5;124mproduct_type\u001b[39m\u001b[38;5;124m'\u001b[39m: \u001b[38;5;124m'\u001b[39m\u001b[38;5;124mreanalysis\u001b[39m\u001b[38;5;124m'\u001b[39m,\n\u001b[0;32m     24\u001b[0m         \u001b[38;5;124m'\u001b[39m\u001b[38;5;124mvariable\u001b[39m\u001b[38;5;124m'\u001b[39m: [\u001b[38;5;124m'\u001b[39m\u001b[38;5;124m10m_u_component_of_wind\u001b[39m\u001b[38;5;124m'\u001b[39m, \u001b[38;5;124m'\u001b[39m\u001b[38;5;124m10m_v_component_of_wind\u001b[39m\u001b[38;5;124m'\u001b[39m],\n\u001b[0;32m     25\u001b[0m         \u001b[38;5;124m'\u001b[39m\u001b[38;5;124myear\u001b[39m\u001b[38;5;124m'\u001b[39m: [\u001b[38;5;28mstr\u001b[39m(y) \u001b[38;5;28;01mfor\u001b[39;00m y \u001b[38;5;129;01min\u001b[39;00m \u001b[38;5;28mrange\u001b[39m(\u001b[38;5;241m2015\u001b[39m, \u001b[38;5;241m2025\u001b[39m)],\n\u001b[0;32m     26\u001b[0m         \u001b[38;5;124m'\u001b[39m\u001b[38;5;124mmonth\u001b[39m\u001b[38;5;124m'\u001b[39m: [\u001b[38;5;124mf\u001b[39m\u001b[38;5;124m'\u001b[39m\u001b[38;5;132;01m{\u001b[39;00mm\u001b[38;5;132;01m:\u001b[39;00m\u001b[38;5;124m02d\u001b[39m\u001b[38;5;132;01m}\u001b[39;00m\u001b[38;5;124m'\u001b[39m \u001b[38;5;28;01mfor\u001b[39;00m m \u001b[38;5;129;01min\u001b[39;00m \u001b[38;5;28mrange\u001b[39m(\u001b[38;5;241m1\u001b[39m, \u001b[38;5;241m13\u001b[39m)],\n\u001b[0;32m     27\u001b[0m         \u001b[38;5;124m'\u001b[39m\u001b[38;5;124mday\u001b[39m\u001b[38;5;124m'\u001b[39m: [\u001b[38;5;124mf\u001b[39m\u001b[38;5;124m'\u001b[39m\u001b[38;5;132;01m{\u001b[39;00md\u001b[38;5;132;01m:\u001b[39;00m\u001b[38;5;124m02d\u001b[39m\u001b[38;5;132;01m}\u001b[39;00m\u001b[38;5;124m'\u001b[39m \u001b[38;5;28;01mfor\u001b[39;00m d \u001b[38;5;129;01min\u001b[39;00m \u001b[38;5;28mrange\u001b[39m(\u001b[38;5;241m1\u001b[39m, \u001b[38;5;241m32\u001b[39m)],\n\u001b[0;32m     28\u001b[0m         \u001b[38;5;124m'\u001b[39m\u001b[38;5;124mtime\u001b[39m\u001b[38;5;124m'\u001b[39m: [\u001b[38;5;124mf\u001b[39m\u001b[38;5;124m\"\u001b[39m\u001b[38;5;132;01m{\u001b[39;00mh\u001b[38;5;132;01m:\u001b[39;00m\u001b[38;5;124m02d\u001b[39m\u001b[38;5;132;01m}\u001b[39;00m\u001b[38;5;124m:00\u001b[39m\u001b[38;5;124m\"\u001b[39m \u001b[38;5;28;01mfor\u001b[39;00m h \u001b[38;5;129;01min\u001b[39;00m \u001b[38;5;28mrange\u001b[39m(\u001b[38;5;241m24\u001b[39m)],\n\u001b[0;32m     29\u001b[0m         \u001b[38;5;124m'\u001b[39m\u001b[38;5;124mformat\u001b[39m\u001b[38;5;124m'\u001b[39m: \u001b[38;5;124m'\u001b[39m\u001b[38;5;124mnetcdf\u001b[39m\u001b[38;5;124m'\u001b[39m,\n\u001b[0;32m     30\u001b[0m         \u001b[38;5;124m'\u001b[39m\u001b[38;5;124marea\u001b[39m\u001b[38;5;124m'\u001b[39m: area,\n\u001b[0;32m     31\u001b[0m     },\n\u001b[0;32m     32\u001b[0m     netcdf_path\n\u001b[0;32m     33\u001b[0m )\n\u001b[0;32m     35\u001b[0m \u001b[38;5;28mprint\u001b[39m(\u001b[38;5;124m\"\u001b[39m\u001b[38;5;124m📊 Processing hourly data + interpolating to 10-minute...\u001b[39m\u001b[38;5;124m\"\u001b[39m)\n\u001b[0;32m     37\u001b[0m ds \u001b[38;5;241m=\u001b[39m xr\u001b[38;5;241m.\u001b[39mopen_dataset(netcdf_path)\n",
      "File \u001b[1;32m~\\anaconda3\\Lib\\site-packages\\cdsapi\\api.py:381\u001b[0m, in \u001b[0;36mClient.retrieve\u001b[1;34m(self, name, request, target)\u001b[0m\n\u001b[0;32m    380\u001b[0m \u001b[38;5;28;01mdef\u001b[39;00m \u001b[38;5;21mretrieve\u001b[39m(\u001b[38;5;28mself\u001b[39m, name, request, target\u001b[38;5;241m=\u001b[39m\u001b[38;5;28;01mNone\u001b[39;00m):\n\u001b[1;32m--> 381\u001b[0m     result \u001b[38;5;241m=\u001b[39m \u001b[38;5;28mself\u001b[39m\u001b[38;5;241m.\u001b[39m_api(\u001b[38;5;124m\"\u001b[39m\u001b[38;5;132;01m%s\u001b[39;00m\u001b[38;5;124m/resources/\u001b[39m\u001b[38;5;132;01m%s\u001b[39;00m\u001b[38;5;124m\"\u001b[39m \u001b[38;5;241m%\u001b[39m (\u001b[38;5;28mself\u001b[39m\u001b[38;5;241m.\u001b[39murl, name), request, \u001b[38;5;124m\"\u001b[39m\u001b[38;5;124mPOST\u001b[39m\u001b[38;5;124m\"\u001b[39m)\n\u001b[0;32m    382\u001b[0m     \u001b[38;5;28;01mif\u001b[39;00m target \u001b[38;5;129;01mis\u001b[39;00m \u001b[38;5;129;01mnot\u001b[39;00m \u001b[38;5;28;01mNone\u001b[39;00m:\n\u001b[0;32m    383\u001b[0m         result\u001b[38;5;241m.\u001b[39mdownload(target)\n",
      "File \u001b[1;32m~\\anaconda3\\Lib\\site-packages\\cdsapi\\api.py:481\u001b[0m, in \u001b[0;36mClient._api\u001b[1;34m(self, url, request, method)\u001b[0m\n\u001b[0;32m    476\u001b[0m             e\u001b[38;5;241m.\u001b[39mappend(\n\u001b[0;32m    477\u001b[0m                 \u001b[38;5;124m\"\u001b[39m\u001b[38;5;124mTo access this resource, you first need to accept the terms\u001b[39m\u001b[38;5;124m\"\u001b[39m\n\u001b[0;32m    478\u001b[0m                 \u001b[38;5;124m\"\u001b[39m\u001b[38;5;124mof \u001b[39m\u001b[38;5;124m'\u001b[39m\u001b[38;5;132;01m%s\u001b[39;00m\u001b[38;5;124m'\u001b[39m\u001b[38;5;124m at \u001b[39m\u001b[38;5;132;01m%s\u001b[39;00m\u001b[38;5;124m\"\u001b[39m \u001b[38;5;241m%\u001b[39m (t[\u001b[38;5;124m\"\u001b[39m\u001b[38;5;124mtitle\u001b[39m\u001b[38;5;124m\"\u001b[39m], t[\u001b[38;5;124m\"\u001b[39m\u001b[38;5;124murl\u001b[39m\u001b[38;5;124m\"\u001b[39m])\n\u001b[0;32m    479\u001b[0m             )\n\u001b[0;32m    480\u001b[0m         error \u001b[38;5;241m=\u001b[39m \u001b[38;5;124m\"\u001b[39m\u001b[38;5;124m. \u001b[39m\u001b[38;5;124m\"\u001b[39m\u001b[38;5;241m.\u001b[39mjoin(e)\n\u001b[1;32m--> 481\u001b[0m     \u001b[38;5;28;01mraise\u001b[39;00m \u001b[38;5;167;01mException\u001b[39;00m(error)\n\u001b[0;32m    482\u001b[0m \u001b[38;5;28;01melse\u001b[39;00m:\n\u001b[0;32m    483\u001b[0m     \u001b[38;5;28;01mraise\u001b[39;00m\n",
      "\u001b[1;31mException\u001b[0m: Not Found"
     ]
    }
   ],
   "source": [
    "import cdsapi\n",
    "import xarray as xr\n",
    "import numpy as np\n",
    "import pandas as pd\n",
    "\n",
    "# CDS credentials\n",
    "cdsapi_url = 'https://cds.climate.copernicus.eu/api/v2'\n",
    "cdsapi_key = '90171b4a-db45-4f29-a1e7-53800377ea00:59c4ecac-f5af-47de-80fc-d9d6cefae125'\n",
    "c = cdsapi.Client(url=cdsapi_url, key=cdsapi_key)\n",
    "\n",
    "# Danish offshore point\n",
    "lat, lon = 56.5, 7.0\n",
    "delta = 0.05\n",
    "area = [lat + delta, lon - delta, lat - delta, lon + delta]  # [N, W, S, E]\n",
    "\n",
    "netcdf_path = 'offshore_dk_hourly_2015_2024.nc'\n",
    "\n",
    "print(\"📥 Downloading ERA5 wind data (hourly)...\")\n",
    "\n",
    "c.retrieve(\n",
    "    'reanalysis-era5-single-levels',\n",
    "    {\n",
    "        'product_type': 'reanalysis',\n",
    "        'variable': ['10m_u_component_of_wind', '10m_v_component_of_wind'],\n",
    "        'year': [str(y) for y in range(2015, 2025)],\n",
    "        'month': [f'{m:02d}' for m in range(1, 13)],\n",
    "        'day': [f'{d:02d}' for d in range(1, 32)],\n",
    "        'time': [f\"{h:02d}:00\" for h in range(24)],\n",
    "        'format': 'netcdf',\n",
    "        'area': area,\n",
    "    },\n",
    "    netcdf_path\n",
    ")\n",
    "\n",
    "print(\"📊 Processing hourly data + interpolating to 10-minute...\")\n",
    "\n",
    "ds = xr.open_dataset(netcdf_path)\n",
    "ds = ds.mean(dim=['latitude', 'longitude'])\n",
    "ds['wind_speed'] = np.sqrt(ds['u10']**2 + ds['v10']**2)\n",
    "\n",
    "df = ds[['u10', 'v10', 'wind_speed']].to_dataframe().reset_index()\n",
    "df.columns = ['timestamp', 'u10', 'v10', 'wind_speed']\n",
    "\n",
    "# Set index and interpolate to 10-minute resolution\n",
    "df = df.set_index('timestamp').resample('10T').interpolate(method='linear').reset_index()\n",
    "\n",
    "# Save as CSV\n",
    "csv_path = 'offshore_dk_wind_10min_interpolated.csv'\n",
    "df.to_csv(csv_path, index=False)\n",
    "\n",
    "print(f\"✅ Done! CSV saved: {csv_path}\")\n"
   ]
  },
  {
   "cell_type": "code",
   "execution_count": 3,
   "id": "6cb638bf-0b29-42b6-948a-9c664a3ed8d8",
   "metadata": {},
   "outputs": [
    {
     "name": "stderr",
     "output_type": "stream",
     "text": [
      "2025-04-17 10:37:32,335 INFO Sending request to https://cds.climate.copernicus.eu/api/v2/resources/reanalysis-era5-land\n"
     ]
    },
    {
     "ename": "Exception",
     "evalue": "Not Found",
     "output_type": "error",
     "traceback": [
      "\u001b[1;31m---------------------------------------------------------------------------\u001b[0m",
      "\u001b[1;31mHTTPError\u001b[0m                                 Traceback (most recent call last)",
      "File \u001b[1;32m~\\anaconda3\\Lib\\site-packages\\cdsapi\\api.py:459\u001b[0m, in \u001b[0;36mClient._api\u001b[1;34m(self, url, request, method)\u001b[0m\n\u001b[0;32m    458\u001b[0m \u001b[38;5;28;01mtry\u001b[39;00m:\n\u001b[1;32m--> 459\u001b[0m     result\u001b[38;5;241m.\u001b[39mraise_for_status()\n\u001b[0;32m    460\u001b[0m     reply \u001b[38;5;241m=\u001b[39m result\u001b[38;5;241m.\u001b[39mjson()\n",
      "File \u001b[1;32m~\\anaconda3\\Lib\\site-packages\\requests\\models.py:1024\u001b[0m, in \u001b[0;36mResponse.raise_for_status\u001b[1;34m(self)\u001b[0m\n\u001b[0;32m   1023\u001b[0m \u001b[38;5;28;01mif\u001b[39;00m http_error_msg:\n\u001b[1;32m-> 1024\u001b[0m     \u001b[38;5;28;01mraise\u001b[39;00m HTTPError(http_error_msg, response\u001b[38;5;241m=\u001b[39m\u001b[38;5;28mself\u001b[39m)\n",
      "\u001b[1;31mHTTPError\u001b[0m: 404 Client Error: Not Found for url: https://cds.climate.copernicus.eu/api/v2/resources/reanalysis-era5-land",
      "\nDuring handling of the above exception, another exception occurred:\n",
      "\u001b[1;31mException\u001b[0m                                 Traceback (most recent call last)",
      "Cell \u001b[1;32mIn[3], line 8\u001b[0m\n\u001b[0;32m      1\u001b[0m \u001b[38;5;28;01mimport\u001b[39;00m \u001b[38;5;21;01mcdsapi\u001b[39;00m\n\u001b[0;32m      3\u001b[0m c \u001b[38;5;241m=\u001b[39m cdsapi\u001b[38;5;241m.\u001b[39mClient(\n\u001b[0;32m      4\u001b[0m     url\u001b[38;5;241m=\u001b[39m\u001b[38;5;124m'\u001b[39m\u001b[38;5;124mhttps://cds.climate.copernicus.eu/api/v2\u001b[39m\u001b[38;5;124m'\u001b[39m,\n\u001b[0;32m      5\u001b[0m     key\u001b[38;5;241m=\u001b[39m\u001b[38;5;124m'\u001b[39m\u001b[38;5;124m90171b4a-db45-4f29-a1e7-53800377ea00:59c4ecac-f5af-47de-80fc-d9d6cefae125\u001b[39m\u001b[38;5;124m'\u001b[39m\n\u001b[0;32m      6\u001b[0m )\n\u001b[1;32m----> 8\u001b[0m c\u001b[38;5;241m.\u001b[39mretrieve(\n\u001b[0;32m      9\u001b[0m     \u001b[38;5;124m'\u001b[39m\u001b[38;5;124mreanalysis-era5-land\u001b[39m\u001b[38;5;124m'\u001b[39m,\n\u001b[0;32m     10\u001b[0m     {\n\u001b[0;32m     11\u001b[0m         \u001b[38;5;124m'\u001b[39m\u001b[38;5;124mvariable\u001b[39m\u001b[38;5;124m'\u001b[39m: [\u001b[38;5;124m'\u001b[39m\u001b[38;5;124m10m_u_component_of_wind\u001b[39m\u001b[38;5;124m'\u001b[39m, \u001b[38;5;124m'\u001b[39m\u001b[38;5;124m10m_v_component_of_wind\u001b[39m\u001b[38;5;124m'\u001b[39m],\n\u001b[0;32m     12\u001b[0m         \u001b[38;5;124m'\u001b[39m\u001b[38;5;124myear\u001b[39m\u001b[38;5;124m'\u001b[39m: [\u001b[38;5;124m'\u001b[39m\u001b[38;5;124m2020\u001b[39m\u001b[38;5;124m'\u001b[39m],\n\u001b[0;32m     13\u001b[0m         \u001b[38;5;124m'\u001b[39m\u001b[38;5;124mmonth\u001b[39m\u001b[38;5;124m'\u001b[39m: [\u001b[38;5;124m'\u001b[39m\u001b[38;5;124m01\u001b[39m\u001b[38;5;124m'\u001b[39m],\n\u001b[0;32m     14\u001b[0m         \u001b[38;5;124m'\u001b[39m\u001b[38;5;124mday\u001b[39m\u001b[38;5;124m'\u001b[39m: [\u001b[38;5;124m'\u001b[39m\u001b[38;5;124m01\u001b[39m\u001b[38;5;124m'\u001b[39m],\n\u001b[0;32m     15\u001b[0m         \u001b[38;5;124m'\u001b[39m\u001b[38;5;124mtime\u001b[39m\u001b[38;5;124m'\u001b[39m: [\u001b[38;5;124m'\u001b[39m\u001b[38;5;124m00:00\u001b[39m\u001b[38;5;124m'\u001b[39m],\n\u001b[0;32m     16\u001b[0m         \u001b[38;5;124m'\u001b[39m\u001b[38;5;124mformat\u001b[39m\u001b[38;5;124m'\u001b[39m: \u001b[38;5;124m'\u001b[39m\u001b[38;5;124mnetcdf\u001b[39m\u001b[38;5;124m'\u001b[39m,\n\u001b[0;32m     17\u001b[0m         \u001b[38;5;124m'\u001b[39m\u001b[38;5;124marea\u001b[39m\u001b[38;5;124m'\u001b[39m: [\u001b[38;5;241m56.55\u001b[39m, \u001b[38;5;241m6.95\u001b[39m, \u001b[38;5;241m56.45\u001b[39m, \u001b[38;5;241m7.05\u001b[39m],  \u001b[38;5;66;03m# DK offshore box\u001b[39;00m\n\u001b[0;32m     18\u001b[0m     },\n\u001b[0;32m     19\u001b[0m     \u001b[38;5;124m'\u001b[39m\u001b[38;5;124mtest_land.nc\u001b[39m\u001b[38;5;124m'\u001b[39m\n\u001b[0;32m     20\u001b[0m )\n",
      "File \u001b[1;32m~\\anaconda3\\Lib\\site-packages\\cdsapi\\api.py:381\u001b[0m, in \u001b[0;36mClient.retrieve\u001b[1;34m(self, name, request, target)\u001b[0m\n\u001b[0;32m    380\u001b[0m \u001b[38;5;28;01mdef\u001b[39;00m \u001b[38;5;21mretrieve\u001b[39m(\u001b[38;5;28mself\u001b[39m, name, request, target\u001b[38;5;241m=\u001b[39m\u001b[38;5;28;01mNone\u001b[39;00m):\n\u001b[1;32m--> 381\u001b[0m     result \u001b[38;5;241m=\u001b[39m \u001b[38;5;28mself\u001b[39m\u001b[38;5;241m.\u001b[39m_api(\u001b[38;5;124m\"\u001b[39m\u001b[38;5;132;01m%s\u001b[39;00m\u001b[38;5;124m/resources/\u001b[39m\u001b[38;5;132;01m%s\u001b[39;00m\u001b[38;5;124m\"\u001b[39m \u001b[38;5;241m%\u001b[39m (\u001b[38;5;28mself\u001b[39m\u001b[38;5;241m.\u001b[39murl, name), request, \u001b[38;5;124m\"\u001b[39m\u001b[38;5;124mPOST\u001b[39m\u001b[38;5;124m\"\u001b[39m)\n\u001b[0;32m    382\u001b[0m     \u001b[38;5;28;01mif\u001b[39;00m target \u001b[38;5;129;01mis\u001b[39;00m \u001b[38;5;129;01mnot\u001b[39;00m \u001b[38;5;28;01mNone\u001b[39;00m:\n\u001b[0;32m    383\u001b[0m         result\u001b[38;5;241m.\u001b[39mdownload(target)\n",
      "File \u001b[1;32m~\\anaconda3\\Lib\\site-packages\\cdsapi\\api.py:481\u001b[0m, in \u001b[0;36mClient._api\u001b[1;34m(self, url, request, method)\u001b[0m\n\u001b[0;32m    476\u001b[0m             e\u001b[38;5;241m.\u001b[39mappend(\n\u001b[0;32m    477\u001b[0m                 \u001b[38;5;124m\"\u001b[39m\u001b[38;5;124mTo access this resource, you first need to accept the terms\u001b[39m\u001b[38;5;124m\"\u001b[39m\n\u001b[0;32m    478\u001b[0m                 \u001b[38;5;124m\"\u001b[39m\u001b[38;5;124mof \u001b[39m\u001b[38;5;124m'\u001b[39m\u001b[38;5;132;01m%s\u001b[39;00m\u001b[38;5;124m'\u001b[39m\u001b[38;5;124m at \u001b[39m\u001b[38;5;132;01m%s\u001b[39;00m\u001b[38;5;124m\"\u001b[39m \u001b[38;5;241m%\u001b[39m (t[\u001b[38;5;124m\"\u001b[39m\u001b[38;5;124mtitle\u001b[39m\u001b[38;5;124m\"\u001b[39m], t[\u001b[38;5;124m\"\u001b[39m\u001b[38;5;124murl\u001b[39m\u001b[38;5;124m\"\u001b[39m])\n\u001b[0;32m    479\u001b[0m             )\n\u001b[0;32m    480\u001b[0m         error \u001b[38;5;241m=\u001b[39m \u001b[38;5;124m\"\u001b[39m\u001b[38;5;124m. \u001b[39m\u001b[38;5;124m\"\u001b[39m\u001b[38;5;241m.\u001b[39mjoin(e)\n\u001b[1;32m--> 481\u001b[0m     \u001b[38;5;28;01mraise\u001b[39;00m \u001b[38;5;167;01mException\u001b[39;00m(error)\n\u001b[0;32m    482\u001b[0m \u001b[38;5;28;01melse\u001b[39;00m:\n\u001b[0;32m    483\u001b[0m     \u001b[38;5;28;01mraise\u001b[39;00m\n",
      "\u001b[1;31mException\u001b[0m: Not Found"
     ]
    }
   ],
   "source": [
    "import cdsapi\n",
    "\n",
    "c = cdsapi.Client(\n",
    "    url='https://cds.climate.copernicus.eu/api/v2',\n",
    "    key='90171b4a-db45-4f29-a1e7-53800377ea00:59c4ecac-f5af-47de-80fc-d9d6cefae125'\n",
    ")\n",
    "\n",
    "c.retrieve(\n",
    "    'reanalysis-era5-land',\n",
    "    {\n",
    "        'variable': ['10m_u_component_of_wind', '10m_v_component_of_wind'],\n",
    "        'year': ['2020'],\n",
    "        'month': ['01'],\n",
    "        'day': ['01'],\n",
    "        'time': ['00:00'],\n",
    "        'format': 'netcdf',\n",
    "        'area': [56.55, 6.95, 56.45, 7.05],  # DK offshore box\n",
    "    },\n",
    "    'test_land.nc'\n",
    ")"
   ]
  },
  {
   "cell_type": "code",
   "execution_count": 12,
   "id": "94a4e526-f7be-42ce-92a5-479f2be0a5c0",
   "metadata": {},
   "outputs": [
    {
     "name": "stdout",
     "output_type": "stream",
     "text": [
      "✅ Export complete: wind_speed_100m_2024.csv\n"
     ]
    }
   ],
   "source": [
    "import xarray as xr\n",
    "import numpy as np\n",
    "import pandas as pd\n",
    "\n",
    "# === CONFIGURATION ===\n",
    "# Replace with your actual NetCDF file\n",
    "input_nc_file = '2024.nc'\n",
    "output_csv_file = 'wind_speed_100m_2024.csv'\n",
    "\n",
    "# === LOAD DATA ===\n",
    "ds = xr.open_dataset(input_nc_file)\n",
    "\n",
    "# Collapse spatial dimensions (if needed — should be a single point/grid box)\n",
    "if 'latitude' in ds.dims and 'longitude' in ds.dims:\n",
    "    ds = ds.mean(dim=['latitude', 'longitude'])\n",
    "\n",
    "# === COMPUTE WIND SPEED ===\n",
    "ds['wind_speed_100m'] = np.sqrt(ds['u100']**2 + ds['v100']**2)\n",
    "\n",
    "# === EXPORT TO CSV ===\n",
    "# Extract relevant variables\n",
    "df = ds[['u100', 'v100', 'wind_speed_100m']].to_dataframe().reset_index()\n",
    "\n",
    "# Rename timestamp for clarity\n",
    "df.rename(columns={'time': 'timestamp'}, inplace=True)\n",
    "\n",
    "# Save to CSV\n",
    "df.to_csv(output_csv_file, index=False)\n",
    "\n",
    "print(f\"✅ Export complete: {output_csv_file}\")"
   ]
  },
  {
   "cell_type": "code",
   "execution_count": 5,
   "id": "a6554594-ed91-4a05-83a5-1ca4f3f969a5",
   "metadata": {},
   "outputs": [
    {
     "name": "stderr",
     "output_type": "stream",
     "text": [
      "2025-04-17 11:04:46,511 INFO Sending request to https://cds.climate.copernicus.eu/api/v2/resources/reanalysis-era5-land\n"
     ]
    },
    {
     "ename": "Exception",
     "evalue": "Not Found",
     "output_type": "error",
     "traceback": [
      "\u001b[1;31m---------------------------------------------------------------------------\u001b[0m",
      "\u001b[1;31mHTTPError\u001b[0m                                 Traceback (most recent call last)",
      "File \u001b[1;32m~\\anaconda3\\Lib\\site-packages\\cdsapi\\api.py:459\u001b[0m, in \u001b[0;36mClient._api\u001b[1;34m(self, url, request, method)\u001b[0m\n\u001b[0;32m    458\u001b[0m \u001b[38;5;28;01mtry\u001b[39;00m:\n\u001b[1;32m--> 459\u001b[0m     result\u001b[38;5;241m.\u001b[39mraise_for_status()\n\u001b[0;32m    460\u001b[0m     reply \u001b[38;5;241m=\u001b[39m result\u001b[38;5;241m.\u001b[39mjson()\n",
      "File \u001b[1;32m~\\anaconda3\\Lib\\site-packages\\requests\\models.py:1024\u001b[0m, in \u001b[0;36mResponse.raise_for_status\u001b[1;34m(self)\u001b[0m\n\u001b[0;32m   1023\u001b[0m \u001b[38;5;28;01mif\u001b[39;00m http_error_msg:\n\u001b[1;32m-> 1024\u001b[0m     \u001b[38;5;28;01mraise\u001b[39;00m HTTPError(http_error_msg, response\u001b[38;5;241m=\u001b[39m\u001b[38;5;28mself\u001b[39m)\n",
      "\u001b[1;31mHTTPError\u001b[0m: 404 Client Error: Not Found for url: https://cds.climate.copernicus.eu/api/v2/resources/reanalysis-era5-land",
      "\nDuring handling of the above exception, another exception occurred:\n",
      "\u001b[1;31mException\u001b[0m                                 Traceback (most recent call last)",
      "Cell \u001b[1;32mIn[5], line 8\u001b[0m\n\u001b[0;32m      1\u001b[0m \u001b[38;5;28;01mimport\u001b[39;00m \u001b[38;5;21;01mcdsapi\u001b[39;00m\n\u001b[0;32m      3\u001b[0m c \u001b[38;5;241m=\u001b[39m cdsapi\u001b[38;5;241m.\u001b[39mClient(\n\u001b[0;32m      4\u001b[0m     url\u001b[38;5;241m=\u001b[39m\u001b[38;5;124m'\u001b[39m\u001b[38;5;124mhttps://cds.climate.copernicus.eu/api/v2\u001b[39m\u001b[38;5;124m'\u001b[39m,\n\u001b[0;32m      5\u001b[0m     key\u001b[38;5;241m=\u001b[39m\u001b[38;5;124m'\u001b[39m\u001b[38;5;124m90171b4a-db45-4f29-a1e7-53800377ea00:59c4ecac-f5af-47de-80fc-d9d6cefae125\u001b[39m\u001b[38;5;124m'\u001b[39m\n\u001b[0;32m      6\u001b[0m )\n\u001b[1;32m----> 8\u001b[0m c\u001b[38;5;241m.\u001b[39mretrieve(\n\u001b[0;32m      9\u001b[0m     \u001b[38;5;124m'\u001b[39m\u001b[38;5;124mreanalysis-era5-land\u001b[39m\u001b[38;5;124m'\u001b[39m,\n\u001b[0;32m     10\u001b[0m     {\n\u001b[0;32m     11\u001b[0m         \u001b[38;5;124m'\u001b[39m\u001b[38;5;124mvariable\u001b[39m\u001b[38;5;124m'\u001b[39m: [\u001b[38;5;124m'\u001b[39m\u001b[38;5;124m10m_u_component_of_wind\u001b[39m\u001b[38;5;124m'\u001b[39m, \u001b[38;5;124m'\u001b[39m\u001b[38;5;124m10m_v_component_of_wind\u001b[39m\u001b[38;5;124m'\u001b[39m],\n\u001b[0;32m     12\u001b[0m         \u001b[38;5;124m'\u001b[39m\u001b[38;5;124myear\u001b[39m\u001b[38;5;124m'\u001b[39m: [\u001b[38;5;124m'\u001b[39m\u001b[38;5;124m2020\u001b[39m\u001b[38;5;124m'\u001b[39m],\n\u001b[0;32m     13\u001b[0m         \u001b[38;5;124m'\u001b[39m\u001b[38;5;124mmonth\u001b[39m\u001b[38;5;124m'\u001b[39m: [\u001b[38;5;124m'\u001b[39m\u001b[38;5;124m01\u001b[39m\u001b[38;5;124m'\u001b[39m],\n\u001b[0;32m     14\u001b[0m         \u001b[38;5;124m'\u001b[39m\u001b[38;5;124mday\u001b[39m\u001b[38;5;124m'\u001b[39m: [\u001b[38;5;124m'\u001b[39m\u001b[38;5;124m01\u001b[39m\u001b[38;5;124m'\u001b[39m],\n\u001b[0;32m     15\u001b[0m         \u001b[38;5;124m'\u001b[39m\u001b[38;5;124mtime\u001b[39m\u001b[38;5;124m'\u001b[39m: [\u001b[38;5;124m'\u001b[39m\u001b[38;5;124m00:00\u001b[39m\u001b[38;5;124m'\u001b[39m],\n\u001b[0;32m     16\u001b[0m         \u001b[38;5;124m'\u001b[39m\u001b[38;5;124mformat\u001b[39m\u001b[38;5;124m'\u001b[39m: \u001b[38;5;124m'\u001b[39m\u001b[38;5;124mnetcdf\u001b[39m\u001b[38;5;124m'\u001b[39m,\n\u001b[0;32m     17\u001b[0m         \u001b[38;5;124m'\u001b[39m\u001b[38;5;124marea\u001b[39m\u001b[38;5;124m'\u001b[39m: [\u001b[38;5;241m56.55\u001b[39m, \u001b[38;5;241m6.95\u001b[39m, \u001b[38;5;241m56.45\u001b[39m, \u001b[38;5;241m7.05\u001b[39m],  \u001b[38;5;66;03m# DK offshore box\u001b[39;00m\n\u001b[0;32m     18\u001b[0m     },\n\u001b[0;32m     19\u001b[0m     \u001b[38;5;124m'\u001b[39m\u001b[38;5;124mtest_land.nc\u001b[39m\u001b[38;5;124m'\u001b[39m\n\u001b[0;32m     20\u001b[0m )\n",
      "File \u001b[1;32m~\\anaconda3\\Lib\\site-packages\\cdsapi\\api.py:381\u001b[0m, in \u001b[0;36mClient.retrieve\u001b[1;34m(self, name, request, target)\u001b[0m\n\u001b[0;32m    380\u001b[0m \u001b[38;5;28;01mdef\u001b[39;00m \u001b[38;5;21mretrieve\u001b[39m(\u001b[38;5;28mself\u001b[39m, name, request, target\u001b[38;5;241m=\u001b[39m\u001b[38;5;28;01mNone\u001b[39;00m):\n\u001b[1;32m--> 381\u001b[0m     result \u001b[38;5;241m=\u001b[39m \u001b[38;5;28mself\u001b[39m\u001b[38;5;241m.\u001b[39m_api(\u001b[38;5;124m\"\u001b[39m\u001b[38;5;132;01m%s\u001b[39;00m\u001b[38;5;124m/resources/\u001b[39m\u001b[38;5;132;01m%s\u001b[39;00m\u001b[38;5;124m\"\u001b[39m \u001b[38;5;241m%\u001b[39m (\u001b[38;5;28mself\u001b[39m\u001b[38;5;241m.\u001b[39murl, name), request, \u001b[38;5;124m\"\u001b[39m\u001b[38;5;124mPOST\u001b[39m\u001b[38;5;124m\"\u001b[39m)\n\u001b[0;32m    382\u001b[0m     \u001b[38;5;28;01mif\u001b[39;00m target \u001b[38;5;129;01mis\u001b[39;00m \u001b[38;5;129;01mnot\u001b[39;00m \u001b[38;5;28;01mNone\u001b[39;00m:\n\u001b[0;32m    383\u001b[0m         result\u001b[38;5;241m.\u001b[39mdownload(target)\n",
      "File \u001b[1;32m~\\anaconda3\\Lib\\site-packages\\cdsapi\\api.py:481\u001b[0m, in \u001b[0;36mClient._api\u001b[1;34m(self, url, request, method)\u001b[0m\n\u001b[0;32m    476\u001b[0m             e\u001b[38;5;241m.\u001b[39mappend(\n\u001b[0;32m    477\u001b[0m                 \u001b[38;5;124m\"\u001b[39m\u001b[38;5;124mTo access this resource, you first need to accept the terms\u001b[39m\u001b[38;5;124m\"\u001b[39m\n\u001b[0;32m    478\u001b[0m                 \u001b[38;5;124m\"\u001b[39m\u001b[38;5;124mof \u001b[39m\u001b[38;5;124m'\u001b[39m\u001b[38;5;132;01m%s\u001b[39;00m\u001b[38;5;124m'\u001b[39m\u001b[38;5;124m at \u001b[39m\u001b[38;5;132;01m%s\u001b[39;00m\u001b[38;5;124m\"\u001b[39m \u001b[38;5;241m%\u001b[39m (t[\u001b[38;5;124m\"\u001b[39m\u001b[38;5;124mtitle\u001b[39m\u001b[38;5;124m\"\u001b[39m], t[\u001b[38;5;124m\"\u001b[39m\u001b[38;5;124murl\u001b[39m\u001b[38;5;124m\"\u001b[39m])\n\u001b[0;32m    479\u001b[0m             )\n\u001b[0;32m    480\u001b[0m         error \u001b[38;5;241m=\u001b[39m \u001b[38;5;124m\"\u001b[39m\u001b[38;5;124m. \u001b[39m\u001b[38;5;124m\"\u001b[39m\u001b[38;5;241m.\u001b[39mjoin(e)\n\u001b[1;32m--> 481\u001b[0m     \u001b[38;5;28;01mraise\u001b[39;00m \u001b[38;5;167;01mException\u001b[39;00m(error)\n\u001b[0;32m    482\u001b[0m \u001b[38;5;28;01melse\u001b[39;00m:\n\u001b[0;32m    483\u001b[0m     \u001b[38;5;28;01mraise\u001b[39;00m\n",
      "\u001b[1;31mException\u001b[0m: Not Found"
     ]
    }
   ],
   "source": [
    "import cdsapi\n",
    "\n",
    "c = cdsapi.Client(\n",
    "    url='https://cds.climate.copernicus.eu/api/v2',\n",
    "    key='90171b4a-db45-4f29-a1e7-53800377ea00:59c4ecac-f5af-47de-80fc-d9d6cefae125'\n",
    ")\n",
    "\n",
    "c.retrieve(\n",
    "    'reanalysis-era5-land',\n",
    "    {\n",
    "        'variable': ['10m_u_component_of_wind', '10m_v_component_of_wind'],\n",
    "        'year': ['2020'],\n",
    "        'month': ['01'],\n",
    "        'day': ['01'],\n",
    "        'time': ['00:00'],\n",
    "        'format': 'netcdf',\n",
    "        'area': [56.55, 6.95, 56.45, 7.05],  # DK offshore box\n",
    "    },\n",
    "    'test_land.nc'\n",
    ")"
   ]
  },
  {
   "cell_type": "code",
   "execution_count": 7,
   "id": "988177f0-1e63-43f3-8898-a78266700a45",
   "metadata": {},
   "outputs": [
    {
     "name": "stderr",
     "output_type": "stream",
     "text": [
      "2025-04-17 11:10:22,217 INFO Sending request to https://cds.climate.copernicus.eu/api/v2/resources/reanalysis-era5-single-levels\n"
     ]
    },
    {
     "ename": "Exception",
     "evalue": "Not Found",
     "output_type": "error",
     "traceback": [
      "\u001b[1;31m---------------------------------------------------------------------------\u001b[0m",
      "\u001b[1;31mHTTPError\u001b[0m                                 Traceback (most recent call last)",
      "File \u001b[1;32m~\\anaconda3\\Lib\\site-packages\\cdsapi\\api.py:459\u001b[0m, in \u001b[0;36mClient._api\u001b[1;34m(self, url, request, method)\u001b[0m\n\u001b[0;32m    458\u001b[0m \u001b[38;5;28;01mtry\u001b[39;00m:\n\u001b[1;32m--> 459\u001b[0m     result\u001b[38;5;241m.\u001b[39mraise_for_status()\n\u001b[0;32m    460\u001b[0m     reply \u001b[38;5;241m=\u001b[39m result\u001b[38;5;241m.\u001b[39mjson()\n",
      "File \u001b[1;32m~\\anaconda3\\Lib\\site-packages\\requests\\models.py:1024\u001b[0m, in \u001b[0;36mResponse.raise_for_status\u001b[1;34m(self)\u001b[0m\n\u001b[0;32m   1023\u001b[0m \u001b[38;5;28;01mif\u001b[39;00m http_error_msg:\n\u001b[1;32m-> 1024\u001b[0m     \u001b[38;5;28;01mraise\u001b[39;00m HTTPError(http_error_msg, response\u001b[38;5;241m=\u001b[39m\u001b[38;5;28mself\u001b[39m)\n",
      "\u001b[1;31mHTTPError\u001b[0m: 404 Client Error: Not Found for url: https://cds.climate.copernicus.eu/api/v2/resources/reanalysis-era5-single-levels",
      "\nDuring handling of the above exception, another exception occurred:\n",
      "\u001b[1;31mException\u001b[0m                                 Traceback (most recent call last)",
      "Cell \u001b[1;32mIn[7], line 46\u001b[0m\n\u001b[0;32m      4\u001b[0m request \u001b[38;5;241m=\u001b[39m {\n\u001b[0;32m      5\u001b[0m     \u001b[38;5;124m\"\u001b[39m\u001b[38;5;124mproduct_type\u001b[39m\u001b[38;5;124m\"\u001b[39m: [\u001b[38;5;124m\"\u001b[39m\u001b[38;5;124mreanalysis\u001b[39m\u001b[38;5;124m\"\u001b[39m],\n\u001b[0;32m      6\u001b[0m     \u001b[38;5;124m\"\u001b[39m\u001b[38;5;124mvariable\u001b[39m\u001b[38;5;124m\"\u001b[39m: [\n\u001b[1;32m   (...)\u001b[0m\n\u001b[0;32m     42\u001b[0m     \u001b[38;5;124m\"\u001b[39m\u001b[38;5;124marea\u001b[39m\u001b[38;5;124m\"\u001b[39m: [\u001b[38;5;241m55.6\u001b[39m, \u001b[38;5;241m7.48\u001b[39m, \u001b[38;5;241m55.5\u001b[39m, \u001b[38;5;241m7.58\u001b[39m]\n\u001b[0;32m     43\u001b[0m }\n\u001b[0;32m     45\u001b[0m client \u001b[38;5;241m=\u001b[39m cdsapi\u001b[38;5;241m.\u001b[39mClient()\n\u001b[1;32m---> 46\u001b[0m client\u001b[38;5;241m.\u001b[39mretrieve(dataset, request)\u001b[38;5;241m.\u001b[39mdownload()\n",
      "File \u001b[1;32m~\\anaconda3\\Lib\\site-packages\\cdsapi\\api.py:381\u001b[0m, in \u001b[0;36mClient.retrieve\u001b[1;34m(self, name, request, target)\u001b[0m\n\u001b[0;32m    380\u001b[0m \u001b[38;5;28;01mdef\u001b[39;00m \u001b[38;5;21mretrieve\u001b[39m(\u001b[38;5;28mself\u001b[39m, name, request, target\u001b[38;5;241m=\u001b[39m\u001b[38;5;28;01mNone\u001b[39;00m):\n\u001b[1;32m--> 381\u001b[0m     result \u001b[38;5;241m=\u001b[39m \u001b[38;5;28mself\u001b[39m\u001b[38;5;241m.\u001b[39m_api(\u001b[38;5;124m\"\u001b[39m\u001b[38;5;132;01m%s\u001b[39;00m\u001b[38;5;124m/resources/\u001b[39m\u001b[38;5;132;01m%s\u001b[39;00m\u001b[38;5;124m\"\u001b[39m \u001b[38;5;241m%\u001b[39m (\u001b[38;5;28mself\u001b[39m\u001b[38;5;241m.\u001b[39murl, name), request, \u001b[38;5;124m\"\u001b[39m\u001b[38;5;124mPOST\u001b[39m\u001b[38;5;124m\"\u001b[39m)\n\u001b[0;32m    382\u001b[0m     \u001b[38;5;28;01mif\u001b[39;00m target \u001b[38;5;129;01mis\u001b[39;00m \u001b[38;5;129;01mnot\u001b[39;00m \u001b[38;5;28;01mNone\u001b[39;00m:\n\u001b[0;32m    383\u001b[0m         result\u001b[38;5;241m.\u001b[39mdownload(target)\n",
      "File \u001b[1;32m~\\anaconda3\\Lib\\site-packages\\cdsapi\\api.py:481\u001b[0m, in \u001b[0;36mClient._api\u001b[1;34m(self, url, request, method)\u001b[0m\n\u001b[0;32m    476\u001b[0m             e\u001b[38;5;241m.\u001b[39mappend(\n\u001b[0;32m    477\u001b[0m                 \u001b[38;5;124m\"\u001b[39m\u001b[38;5;124mTo access this resource, you first need to accept the terms\u001b[39m\u001b[38;5;124m\"\u001b[39m\n\u001b[0;32m    478\u001b[0m                 \u001b[38;5;124m\"\u001b[39m\u001b[38;5;124mof \u001b[39m\u001b[38;5;124m'\u001b[39m\u001b[38;5;132;01m%s\u001b[39;00m\u001b[38;5;124m'\u001b[39m\u001b[38;5;124m at \u001b[39m\u001b[38;5;132;01m%s\u001b[39;00m\u001b[38;5;124m\"\u001b[39m \u001b[38;5;241m%\u001b[39m (t[\u001b[38;5;124m\"\u001b[39m\u001b[38;5;124mtitle\u001b[39m\u001b[38;5;124m\"\u001b[39m], t[\u001b[38;5;124m\"\u001b[39m\u001b[38;5;124murl\u001b[39m\u001b[38;5;124m\"\u001b[39m])\n\u001b[0;32m    479\u001b[0m             )\n\u001b[0;32m    480\u001b[0m         error \u001b[38;5;241m=\u001b[39m \u001b[38;5;124m\"\u001b[39m\u001b[38;5;124m. \u001b[39m\u001b[38;5;124m\"\u001b[39m\u001b[38;5;241m.\u001b[39mjoin(e)\n\u001b[1;32m--> 481\u001b[0m     \u001b[38;5;28;01mraise\u001b[39;00m \u001b[38;5;167;01mException\u001b[39;00m(error)\n\u001b[0;32m    482\u001b[0m \u001b[38;5;28;01melse\u001b[39;00m:\n\u001b[0;32m    483\u001b[0m     \u001b[38;5;28;01mraise\u001b[39;00m\n",
      "\u001b[1;31mException\u001b[0m: Not Found"
     ]
    }
   ],
   "source": [
    "import cdsapi\n",
    "\n",
    "dataset = \"reanalysis-era5-single-levels\"\n",
    "request = {\n",
    "    \"product_type\": [\"reanalysis\"],\n",
    "    \"variable\": [\n",
    "        \"100m_u_component_of_wind\",\n",
    "        \"100m_v_component_of_wind\"\n",
    "    ],\n",
    "    \"year\": [\"2016\"],\n",
    "    \"month\": [\n",
    "        \"01\", \"02\", \"03\",\n",
    "        \"04\", \"05\", \"06\",\n",
    "        \"07\", \"08\", \"09\",\n",
    "        \"10\", \"11\", \"12\"\n",
    "    ],\n",
    "    \"day\": [\n",
    "        \"01\", \"02\", \"03\",\n",
    "        \"04\", \"05\", \"06\",\n",
    "        \"07\", \"08\", \"09\",\n",
    "        \"10\", \"11\", \"12\",\n",
    "        \"13\", \"14\", \"15\",\n",
    "        \"16\", \"17\", \"18\",\n",
    "        \"19\", \"20\", \"21\",\n",
    "        \"22\", \"23\", \"24\",\n",
    "        \"25\", \"26\", \"27\",\n",
    "        \"28\", \"29\", \"30\",\n",
    "        \"31\"\n",
    "    ],\n",
    "    \"time\": [\n",
    "        \"00:00\", \"01:00\", \"02:00\",\n",
    "        \"03:00\", \"04:00\", \"05:00\",\n",
    "        \"06:00\", \"07:00\", \"08:00\",\n",
    "        \"09:00\", \"10:00\", \"11:00\",\n",
    "        \"12:00\", \"13:00\", \"14:00\",\n",
    "        \"15:00\", \"16:00\", \"17:00\",\n",
    "        \"18:00\", \"19:00\", \"20:00\",\n",
    "        \"21:00\", \"22:00\", \"23:00\"\n",
    "    ],\n",
    "    \"data_format\": \"netcdf\",\n",
    "    \"download_format\": \"unarchived\",\n",
    "    \"area\": [55.6, 7.48, 55.5, 7.58]\n",
    "}\n",
    "\n",
    "client = cdsapi.Client()\n",
    "client.retrieve(dataset, request).download()\n"
   ]
  },
  {
   "cell_type": "code",
   "execution_count": 8,
   "id": "74cc3394-482b-4b4f-b831-33241d0c9008",
   "metadata": {},
   "outputs": [
    {
     "name": "stderr",
     "output_type": "stream",
     "text": [
      "2025-04-17 11:11:34,400 INFO Sending request to https://cds.climate.copernicus.eu/api/v2/resources/reanalysis-era5-single-levels\n"
     ]
    },
    {
     "ename": "Exception",
     "evalue": "Not Found",
     "output_type": "error",
     "traceback": [
      "\u001b[1;31m---------------------------------------------------------------------------\u001b[0m",
      "\u001b[1;31mHTTPError\u001b[0m                                 Traceback (most recent call last)",
      "File \u001b[1;32m~\\anaconda3\\Lib\\site-packages\\cdsapi\\api.py:459\u001b[0m, in \u001b[0;36mClient._api\u001b[1;34m(self, url, request, method)\u001b[0m\n\u001b[0;32m    458\u001b[0m \u001b[38;5;28;01mtry\u001b[39;00m:\n\u001b[1;32m--> 459\u001b[0m     result\u001b[38;5;241m.\u001b[39mraise_for_status()\n\u001b[0;32m    460\u001b[0m     reply \u001b[38;5;241m=\u001b[39m result\u001b[38;5;241m.\u001b[39mjson()\n",
      "File \u001b[1;32m~\\anaconda3\\Lib\\site-packages\\requests\\models.py:1024\u001b[0m, in \u001b[0;36mResponse.raise_for_status\u001b[1;34m(self)\u001b[0m\n\u001b[0;32m   1023\u001b[0m \u001b[38;5;28;01mif\u001b[39;00m http_error_msg:\n\u001b[1;32m-> 1024\u001b[0m     \u001b[38;5;28;01mraise\u001b[39;00m HTTPError(http_error_msg, response\u001b[38;5;241m=\u001b[39m\u001b[38;5;28mself\u001b[39m)\n",
      "\u001b[1;31mHTTPError\u001b[0m: 404 Client Error: Not Found for url: https://cds.climate.copernicus.eu/api/v2/resources/reanalysis-era5-single-levels",
      "\nDuring handling of the above exception, another exception occurred:\n",
      "\u001b[1;31mException\u001b[0m                                 Traceback (most recent call last)",
      "Cell \u001b[1;32mIn[8], line 5\u001b[0m\n\u001b[0;32m      1\u001b[0m \u001b[38;5;28;01mimport\u001b[39;00m \u001b[38;5;21;01mcdsapi\u001b[39;00m\n\u001b[0;32m      3\u001b[0m client \u001b[38;5;241m=\u001b[39m cdsapi\u001b[38;5;241m.\u001b[39mClient()\n\u001b[1;32m----> 5\u001b[0m client\u001b[38;5;241m.\u001b[39mretrieve(\n\u001b[0;32m      6\u001b[0m     \u001b[38;5;124m'\u001b[39m\u001b[38;5;124mreanalysis-era5-single-levels\u001b[39m\u001b[38;5;124m'\u001b[39m,\n\u001b[0;32m      7\u001b[0m     {\n\u001b[0;32m      8\u001b[0m         \u001b[38;5;124m'\u001b[39m\u001b[38;5;124mproduct_type\u001b[39m\u001b[38;5;124m'\u001b[39m: \u001b[38;5;124m'\u001b[39m\u001b[38;5;124mreanalysis\u001b[39m\u001b[38;5;124m'\u001b[39m,\n\u001b[0;32m      9\u001b[0m         \u001b[38;5;124m'\u001b[39m\u001b[38;5;124mvariable\u001b[39m\u001b[38;5;124m'\u001b[39m: [\u001b[38;5;124m'\u001b[39m\u001b[38;5;124m100m_u_component_of_wind\u001b[39m\u001b[38;5;124m'\u001b[39m, \u001b[38;5;124m'\u001b[39m\u001b[38;5;124m100m_v_component_of_wind\u001b[39m\u001b[38;5;124m'\u001b[39m],\n\u001b[0;32m     10\u001b[0m         \u001b[38;5;124m'\u001b[39m\u001b[38;5;124myear\u001b[39m\u001b[38;5;124m'\u001b[39m: \u001b[38;5;124m'\u001b[39m\u001b[38;5;124m2020\u001b[39m\u001b[38;5;124m'\u001b[39m,\n\u001b[0;32m     11\u001b[0m         \u001b[38;5;124m'\u001b[39m\u001b[38;5;124mmonth\u001b[39m\u001b[38;5;124m'\u001b[39m: \u001b[38;5;124m'\u001b[39m\u001b[38;5;124m01\u001b[39m\u001b[38;5;124m'\u001b[39m,\n\u001b[0;32m     12\u001b[0m         \u001b[38;5;124m'\u001b[39m\u001b[38;5;124mday\u001b[39m\u001b[38;5;124m'\u001b[39m: \u001b[38;5;124m'\u001b[39m\u001b[38;5;124m01\u001b[39m\u001b[38;5;124m'\u001b[39m,\n\u001b[0;32m     13\u001b[0m         \u001b[38;5;124m'\u001b[39m\u001b[38;5;124mtime\u001b[39m\u001b[38;5;124m'\u001b[39m: [\u001b[38;5;124m'\u001b[39m\u001b[38;5;124m00:00\u001b[39m\u001b[38;5;124m'\u001b[39m, \u001b[38;5;124m'\u001b[39m\u001b[38;5;124m01:00\u001b[39m\u001b[38;5;124m'\u001b[39m, \u001b[38;5;124m'\u001b[39m\u001b[38;5;124m02:00\u001b[39m\u001b[38;5;124m'\u001b[39m],  \u001b[38;5;66;03m# keep it tiny for test\u001b[39;00m\n\u001b[0;32m     14\u001b[0m         \u001b[38;5;124m'\u001b[39m\u001b[38;5;124mformat\u001b[39m\u001b[38;5;124m'\u001b[39m: \u001b[38;5;124m'\u001b[39m\u001b[38;5;124mnetcdf\u001b[39m\u001b[38;5;124m'\u001b[39m,\n\u001b[0;32m     15\u001b[0m         \u001b[38;5;124m'\u001b[39m\u001b[38;5;124marea\u001b[39m\u001b[38;5;124m'\u001b[39m: [\u001b[38;5;241m55.6\u001b[39m, \u001b[38;5;241m7.48\u001b[39m, \u001b[38;5;241m55.5\u001b[39m, \u001b[38;5;241m7.58\u001b[39m],  \u001b[38;5;66;03m# Horns Rev offshore\u001b[39;00m\n\u001b[0;32m     16\u001b[0m     }\n\u001b[0;32m     17\u001b[0m )\u001b[38;5;241m.\u001b[39mdownload(\u001b[38;5;124m'\u001b[39m\u001b[38;5;124mtest_100m.nc\u001b[39m\u001b[38;5;124m'\u001b[39m)\n",
      "File \u001b[1;32m~\\anaconda3\\Lib\\site-packages\\cdsapi\\api.py:381\u001b[0m, in \u001b[0;36mClient.retrieve\u001b[1;34m(self, name, request, target)\u001b[0m\n\u001b[0;32m    380\u001b[0m \u001b[38;5;28;01mdef\u001b[39;00m \u001b[38;5;21mretrieve\u001b[39m(\u001b[38;5;28mself\u001b[39m, name, request, target\u001b[38;5;241m=\u001b[39m\u001b[38;5;28;01mNone\u001b[39;00m):\n\u001b[1;32m--> 381\u001b[0m     result \u001b[38;5;241m=\u001b[39m \u001b[38;5;28mself\u001b[39m\u001b[38;5;241m.\u001b[39m_api(\u001b[38;5;124m\"\u001b[39m\u001b[38;5;132;01m%s\u001b[39;00m\u001b[38;5;124m/resources/\u001b[39m\u001b[38;5;132;01m%s\u001b[39;00m\u001b[38;5;124m\"\u001b[39m \u001b[38;5;241m%\u001b[39m (\u001b[38;5;28mself\u001b[39m\u001b[38;5;241m.\u001b[39murl, name), request, \u001b[38;5;124m\"\u001b[39m\u001b[38;5;124mPOST\u001b[39m\u001b[38;5;124m\"\u001b[39m)\n\u001b[0;32m    382\u001b[0m     \u001b[38;5;28;01mif\u001b[39;00m target \u001b[38;5;129;01mis\u001b[39;00m \u001b[38;5;129;01mnot\u001b[39;00m \u001b[38;5;28;01mNone\u001b[39;00m:\n\u001b[0;32m    383\u001b[0m         result\u001b[38;5;241m.\u001b[39mdownload(target)\n",
      "File \u001b[1;32m~\\anaconda3\\Lib\\site-packages\\cdsapi\\api.py:481\u001b[0m, in \u001b[0;36mClient._api\u001b[1;34m(self, url, request, method)\u001b[0m\n\u001b[0;32m    476\u001b[0m             e\u001b[38;5;241m.\u001b[39mappend(\n\u001b[0;32m    477\u001b[0m                 \u001b[38;5;124m\"\u001b[39m\u001b[38;5;124mTo access this resource, you first need to accept the terms\u001b[39m\u001b[38;5;124m\"\u001b[39m\n\u001b[0;32m    478\u001b[0m                 \u001b[38;5;124m\"\u001b[39m\u001b[38;5;124mof \u001b[39m\u001b[38;5;124m'\u001b[39m\u001b[38;5;132;01m%s\u001b[39;00m\u001b[38;5;124m'\u001b[39m\u001b[38;5;124m at \u001b[39m\u001b[38;5;132;01m%s\u001b[39;00m\u001b[38;5;124m\"\u001b[39m \u001b[38;5;241m%\u001b[39m (t[\u001b[38;5;124m\"\u001b[39m\u001b[38;5;124mtitle\u001b[39m\u001b[38;5;124m\"\u001b[39m], t[\u001b[38;5;124m\"\u001b[39m\u001b[38;5;124murl\u001b[39m\u001b[38;5;124m\"\u001b[39m])\n\u001b[0;32m    479\u001b[0m             )\n\u001b[0;32m    480\u001b[0m         error \u001b[38;5;241m=\u001b[39m \u001b[38;5;124m\"\u001b[39m\u001b[38;5;124m. \u001b[39m\u001b[38;5;124m\"\u001b[39m\u001b[38;5;241m.\u001b[39mjoin(e)\n\u001b[1;32m--> 481\u001b[0m     \u001b[38;5;28;01mraise\u001b[39;00m \u001b[38;5;167;01mException\u001b[39;00m(error)\n\u001b[0;32m    482\u001b[0m \u001b[38;5;28;01melse\u001b[39;00m:\n\u001b[0;32m    483\u001b[0m     \u001b[38;5;28;01mraise\u001b[39;00m\n",
      "\u001b[1;31mException\u001b[0m: Not Found"
     ]
    }
   ],
   "source": [
    "import cdsapi\n",
    "\n",
    "client = cdsapi.Client()\n",
    "\n",
    "client.retrieve(\n",
    "    'reanalysis-era5-single-levels',\n",
    "    {\n",
    "        'product_type': 'reanalysis',\n",
    "        'variable': ['100m_u_component_of_wind', '100m_v_component_of_wind'],\n",
    "        'year': '2020',\n",
    "        'month': '01',\n",
    "        'day': '01',\n",
    "        'time': ['00:00', '01:00', '02:00'],  # keep it tiny for test\n",
    "        'format': 'netcdf',\n",
    "        'area': [55.6, 7.48, 55.5, 7.58],  # Horns Rev offshore\n",
    "    }\n",
    ").download('test_100m.nc')"
   ]
  },
  {
   "cell_type": "code",
   "execution_count": 13,
   "id": "ec9afe9e-1e14-472c-aad3-5ca6b8581d37",
   "metadata": {},
   "outputs": [
    {
     "name": "stdout",
     "output_type": "stream",
     "text": [
      "📂 Processing 2015.nc...\n"
     ]
    },
    {
     "ename": "KeyError",
     "evalue": "\"None of ['timestamp'] are in the columns\"",
     "output_type": "error",
     "traceback": [
      "\u001b[1;31m---------------------------------------------------------------------------\u001b[0m",
      "\u001b[1;31mKeyError\u001b[0m                                  Traceback (most recent call last)",
      "\u001b[1;32m~\\AppData\\Local\\Temp\\ipykernel_3312\\3178053927.py\u001b[0m in \u001b[0;36m?\u001b[1;34m()\u001b[0m\n\u001b[0;32m     28\u001b[0m     \u001b[0mdf\u001b[0m \u001b[1;33m=\u001b[0m \u001b[0mds\u001b[0m\u001b[1;33m[\u001b[0m\u001b[1;33m[\u001b[0m\u001b[1;34m'wind_speed_100m'\u001b[0m\u001b[1;33m]\u001b[0m\u001b[1;33m]\u001b[0m\u001b[1;33m.\u001b[0m\u001b[0mto_dataframe\u001b[0m\u001b[1;33m(\u001b[0m\u001b[1;33m)\u001b[0m\u001b[1;33m.\u001b[0m\u001b[0mreset_index\u001b[0m\u001b[1;33m(\u001b[0m\u001b[1;33m)\u001b[0m\u001b[1;33m\u001b[0m\u001b[1;33m\u001b[0m\u001b[0m\n\u001b[0;32m     29\u001b[0m     \u001b[0mdf\u001b[0m\u001b[1;33m.\u001b[0m\u001b[0mrename\u001b[0m\u001b[1;33m(\u001b[0m\u001b[0mcolumns\u001b[0m\u001b[1;33m=\u001b[0m\u001b[1;33m{\u001b[0m\u001b[1;34m'time'\u001b[0m\u001b[1;33m:\u001b[0m \u001b[1;34m'timestamp'\u001b[0m\u001b[1;33m}\u001b[0m\u001b[1;33m,\u001b[0m \u001b[0minplace\u001b[0m\u001b[1;33m=\u001b[0m\u001b[1;32mTrue\u001b[0m\u001b[1;33m)\u001b[0m\u001b[1;33m\u001b[0m\u001b[1;33m\u001b[0m\u001b[0m\n\u001b[0;32m     30\u001b[0m \u001b[1;33m\u001b[0m\u001b[0m\n\u001b[0;32m     31\u001b[0m     \u001b[1;31m# Interpolate to 10-minute resolution\u001b[0m\u001b[1;33m\u001b[0m\u001b[1;33m\u001b[0m\u001b[0m\n\u001b[1;32m---> 32\u001b[1;33m     \u001b[0mdf\u001b[0m\u001b[1;33m.\u001b[0m\u001b[0mset_index\u001b[0m\u001b[1;33m(\u001b[0m\u001b[1;34m'timestamp'\u001b[0m\u001b[1;33m,\u001b[0m \u001b[0minplace\u001b[0m\u001b[1;33m=\u001b[0m\u001b[1;32mTrue\u001b[0m\u001b[1;33m)\u001b[0m\u001b[1;33m\u001b[0m\u001b[1;33m\u001b[0m\u001b[0m\n\u001b[0m\u001b[0;32m     33\u001b[0m     \u001b[0mdf\u001b[0m \u001b[1;33m=\u001b[0m \u001b[0mdf\u001b[0m\u001b[1;33m.\u001b[0m\u001b[0mresample\u001b[0m\u001b[1;33m(\u001b[0m\u001b[1;34m'10T'\u001b[0m\u001b[1;33m)\u001b[0m\u001b[1;33m.\u001b[0m\u001b[0minterpolate\u001b[0m\u001b[1;33m(\u001b[0m\u001b[0mmethod\u001b[0m\u001b[1;33m=\u001b[0m\u001b[1;34m'linear'\u001b[0m\u001b[1;33m)\u001b[0m  \u001b[1;31m# Linear interpolation\u001b[0m\u001b[1;33m\u001b[0m\u001b[1;33m\u001b[0m\u001b[0m\n\u001b[0;32m     34\u001b[0m     \u001b[0mdf\u001b[0m \u001b[1;33m=\u001b[0m \u001b[0mdf\u001b[0m\u001b[1;33m.\u001b[0m\u001b[0mreset_index\u001b[0m\u001b[1;33m(\u001b[0m\u001b[1;33m)\u001b[0m\u001b[1;33m\u001b[0m\u001b[1;33m\u001b[0m\u001b[0m\n\u001b[0;32m     35\u001b[0m \u001b[1;33m\u001b[0m\u001b[0m\n",
      "\u001b[1;32m~\\anaconda3\\Lib\\site-packages\\pandas\\core\\frame.py\u001b[0m in \u001b[0;36m?\u001b[1;34m(self, keys, drop, append, inplace, verify_integrity)\u001b[0m\n\u001b[0;32m   6118\u001b[0m                     \u001b[1;32mif\u001b[0m \u001b[1;32mnot\u001b[0m \u001b[0mfound\u001b[0m\u001b[1;33m:\u001b[0m\u001b[1;33m\u001b[0m\u001b[1;33m\u001b[0m\u001b[0m\n\u001b[0;32m   6119\u001b[0m                         \u001b[0mmissing\u001b[0m\u001b[1;33m.\u001b[0m\u001b[0mappend\u001b[0m\u001b[1;33m(\u001b[0m\u001b[0mcol\u001b[0m\u001b[1;33m)\u001b[0m\u001b[1;33m\u001b[0m\u001b[1;33m\u001b[0m\u001b[0m\n\u001b[0;32m   6120\u001b[0m \u001b[1;33m\u001b[0m\u001b[0m\n\u001b[0;32m   6121\u001b[0m         \u001b[1;32mif\u001b[0m \u001b[0mmissing\u001b[0m\u001b[1;33m:\u001b[0m\u001b[1;33m\u001b[0m\u001b[1;33m\u001b[0m\u001b[0m\n\u001b[1;32m-> 6122\u001b[1;33m             \u001b[1;32mraise\u001b[0m \u001b[0mKeyError\u001b[0m\u001b[1;33m(\u001b[0m\u001b[1;33mf\"\u001b[0m\u001b[1;33mNone of \u001b[0m\u001b[1;33m{\u001b[0m\u001b[0mmissing\u001b[0m\u001b[1;33m}\u001b[0m\u001b[1;33m are in the columns\u001b[0m\u001b[1;33m\"\u001b[0m\u001b[1;33m)\u001b[0m\u001b[1;33m\u001b[0m\u001b[1;33m\u001b[0m\u001b[0m\n\u001b[0m\u001b[0;32m   6123\u001b[0m \u001b[1;33m\u001b[0m\u001b[0m\n\u001b[0;32m   6124\u001b[0m         \u001b[1;32mif\u001b[0m \u001b[0minplace\u001b[0m\u001b[1;33m:\u001b[0m\u001b[1;33m\u001b[0m\u001b[1;33m\u001b[0m\u001b[0m\n\u001b[0;32m   6125\u001b[0m             \u001b[0mframe\u001b[0m \u001b[1;33m=\u001b[0m \u001b[0mself\u001b[0m\u001b[1;33m\u001b[0m\u001b[1;33m\u001b[0m\u001b[0m\n",
      "\u001b[1;31mKeyError\u001b[0m: \"None of ['timestamp'] are in the columns\""
     ]
    }
   ],
   "source": [
    "import xarray as xr\n",
    "import numpy as np\n",
    "import pandas as pd\n",
    "\n",
    "# === CONFIGURATION ===\n",
    "input_files = [\n",
    "    '2015.nc', '2016.nc', '2017.nc', '2018.nc', '2019.nc',\n",
    "    '2020.nc', '2021.nc', '2022.nc', '2023.nc', '2024.nc'\n",
    "]\n",
    "output_csv_file = 'wind_speed_100m_10min_2015_2024.csv'\n",
    "\n",
    "# === PROCESS FILES ===\n",
    "all_dfs = []\n",
    "\n",
    "for input_file in input_files:\n",
    "    print(f\"📂 Processing {input_file}...\")\n",
    "\n",
    "    ds = xr.open_dataset(input_file)\n",
    "\n",
    "    # Collapse to a point (if it's a small box)\n",
    "    if 'latitude' in ds.dims and 'longitude' in ds.dims:\n",
    "        ds = ds.mean(dim=['latitude', 'longitude'])\n",
    "\n",
    "    # Compute wind speed\n",
    "    ds['wind_speed_100m'] = np.sqrt(ds['u100']**2 + ds['v100']**2)\n",
    "\n",
    "    # Convert to DataFrame\n",
    "    df = ds[['wind_speed_100m']].to_dataframe().reset_index()\n",
    "    df.rename(columns={'time': 'timestamp'}, inplace=True)\n",
    "\n",
    "    # Interpolate to 10-minute resolution\n",
    "    df.set_index('timestamp', inplace=True)\n",
    "    df = df.resample('10T').interpolate(method='linear')  # Linear interpolation\n",
    "    df = df.reset_index()\n",
    "\n",
    "    # Keep only relevant columns\n",
    "    all_dfs.append(df[['timestamp', 'wind_speed_100m']])\n",
    "\n",
    "# === COMBINE AND EXPORT ===\n",
    "final_df = pd.concat(all_dfs).sort_values(by='timestamp').reset_index(drop=True)\n",
    "final_df.to_csv(output_csv_file, index=False)\n",
    "\n",
    "print(f\"✅ All done! 10-min CSV saved to: {output_csv_file}\")"
   ]
  },
  {
   "cell_type": "code",
   "execution_count": 14,
   "id": "59573d67-8f12-4862-a262-1500051cfbc2",
   "metadata": {},
   "outputs": [
    {
     "name": "stdout",
     "output_type": "stream",
     "text": [
      "📂 Processing 2015.nc...\n",
      "📂 Processing 2016.nc...\n",
      "📂 Processing 2017.nc...\n",
      "📂 Processing 2018.nc...\n"
     ]
    },
    {
     "name": "stderr",
     "output_type": "stream",
     "text": [
      "C:\\Users\\gepap\\AppData\\Local\\Temp\\ipykernel_3312\\268867624.py:38: FutureWarning: 'T' is deprecated and will be removed in a future version, please use 'min' instead.\n",
      "  df = df.resample('10T').interpolate(method='linear')\n",
      "C:\\Users\\gepap\\AppData\\Local\\Temp\\ipykernel_3312\\268867624.py:38: FutureWarning: DataFrame.interpolate with object dtype is deprecated and will raise in a future version. Call obj.infer_objects(copy=False) before interpolating instead.\n",
      "  df = df.resample('10T').interpolate(method='linear')\n",
      "C:\\Users\\gepap\\AppData\\Local\\Temp\\ipykernel_3312\\268867624.py:38: FutureWarning: 'T' is deprecated and will be removed in a future version, please use 'min' instead.\n",
      "  df = df.resample('10T').interpolate(method='linear')\n",
      "C:\\Users\\gepap\\AppData\\Local\\Temp\\ipykernel_3312\\268867624.py:38: FutureWarning: DataFrame.interpolate with object dtype is deprecated and will raise in a future version. Call obj.infer_objects(copy=False) before interpolating instead.\n",
      "  df = df.resample('10T').interpolate(method='linear')\n",
      "C:\\Users\\gepap\\AppData\\Local\\Temp\\ipykernel_3312\\268867624.py:38: FutureWarning: 'T' is deprecated and will be removed in a future version, please use 'min' instead.\n",
      "  df = df.resample('10T').interpolate(method='linear')\n",
      "C:\\Users\\gepap\\AppData\\Local\\Temp\\ipykernel_3312\\268867624.py:38: FutureWarning: DataFrame.interpolate with object dtype is deprecated and will raise in a future version. Call obj.infer_objects(copy=False) before interpolating instead.\n",
      "  df = df.resample('10T').interpolate(method='linear')\n",
      "C:\\Users\\gepap\\AppData\\Local\\Temp\\ipykernel_3312\\268867624.py:38: FutureWarning: 'T' is deprecated and will be removed in a future version, please use 'min' instead.\n",
      "  df = df.resample('10T').interpolate(method='linear')\n",
      "C:\\Users\\gepap\\AppData\\Local\\Temp\\ipykernel_3312\\268867624.py:38: FutureWarning: DataFrame.interpolate with object dtype is deprecated and will raise in a future version. Call obj.infer_objects(copy=False) before interpolating instead.\n",
      "  df = df.resample('10T').interpolate(method='linear')\n",
      "C:\\Users\\gepap\\AppData\\Local\\Temp\\ipykernel_3312\\268867624.py:38: FutureWarning: 'T' is deprecated and will be removed in a future version, please use 'min' instead.\n",
      "  df = df.resample('10T').interpolate(method='linear')\n",
      "C:\\Users\\gepap\\AppData\\Local\\Temp\\ipykernel_3312\\268867624.py:38: FutureWarning: DataFrame.interpolate with object dtype is deprecated and will raise in a future version. Call obj.infer_objects(copy=False) before interpolating instead.\n",
      "  df = df.resample('10T').interpolate(method='linear')\n"
     ]
    },
    {
     "name": "stdout",
     "output_type": "stream",
     "text": [
      "📂 Processing 2019.nc...\n",
      "📂 Processing 2020.nc...\n",
      "📂 Processing 2021.nc...\n",
      "📂 Processing 2022.nc...\n",
      "📂 Processing 2023.nc...\n"
     ]
    },
    {
     "name": "stderr",
     "output_type": "stream",
     "text": [
      "C:\\Users\\gepap\\AppData\\Local\\Temp\\ipykernel_3312\\268867624.py:38: FutureWarning: 'T' is deprecated and will be removed in a future version, please use 'min' instead.\n",
      "  df = df.resample('10T').interpolate(method='linear')\n",
      "C:\\Users\\gepap\\AppData\\Local\\Temp\\ipykernel_3312\\268867624.py:38: FutureWarning: DataFrame.interpolate with object dtype is deprecated and will raise in a future version. Call obj.infer_objects(copy=False) before interpolating instead.\n",
      "  df = df.resample('10T').interpolate(method='linear')\n",
      "C:\\Users\\gepap\\AppData\\Local\\Temp\\ipykernel_3312\\268867624.py:38: FutureWarning: 'T' is deprecated and will be removed in a future version, please use 'min' instead.\n",
      "  df = df.resample('10T').interpolate(method='linear')\n",
      "C:\\Users\\gepap\\AppData\\Local\\Temp\\ipykernel_3312\\268867624.py:38: FutureWarning: DataFrame.interpolate with object dtype is deprecated and will raise in a future version. Call obj.infer_objects(copy=False) before interpolating instead.\n",
      "  df = df.resample('10T').interpolate(method='linear')\n",
      "C:\\Users\\gepap\\AppData\\Local\\Temp\\ipykernel_3312\\268867624.py:38: FutureWarning: 'T' is deprecated and will be removed in a future version, please use 'min' instead.\n",
      "  df = df.resample('10T').interpolate(method='linear')\n",
      "C:\\Users\\gepap\\AppData\\Local\\Temp\\ipykernel_3312\\268867624.py:38: FutureWarning: DataFrame.interpolate with object dtype is deprecated and will raise in a future version. Call obj.infer_objects(copy=False) before interpolating instead.\n",
      "  df = df.resample('10T').interpolate(method='linear')\n",
      "C:\\Users\\gepap\\AppData\\Local\\Temp\\ipykernel_3312\\268867624.py:38: FutureWarning: 'T' is deprecated and will be removed in a future version, please use 'min' instead.\n",
      "  df = df.resample('10T').interpolate(method='linear')\n",
      "C:\\Users\\gepap\\AppData\\Local\\Temp\\ipykernel_3312\\268867624.py:38: FutureWarning: DataFrame.interpolate with object dtype is deprecated and will raise in a future version. Call obj.infer_objects(copy=False) before interpolating instead.\n",
      "  df = df.resample('10T').interpolate(method='linear')\n",
      "C:\\Users\\gepap\\AppData\\Local\\Temp\\ipykernel_3312\\268867624.py:38: FutureWarning: 'T' is deprecated and will be removed in a future version, please use 'min' instead.\n",
      "  df = df.resample('10T').interpolate(method='linear')\n",
      "C:\\Users\\gepap\\AppData\\Local\\Temp\\ipykernel_3312\\268867624.py:38: FutureWarning: DataFrame.interpolate with object dtype is deprecated and will raise in a future version. Call obj.infer_objects(copy=False) before interpolating instead.\n",
      "  df = df.resample('10T').interpolate(method='linear')\n"
     ]
    },
    {
     "name": "stdout",
     "output_type": "stream",
     "text": [
      "📂 Processing 2024.nc...\n",
      "✅ All done! 10-min CSV saved to: wind_speed_100m_10min_2015_2024.csv\n"
     ]
    }
   ],
   "source": [
    "import xarray as xr\n",
    "import numpy as np\n",
    "import pandas as pd\n",
    "\n",
    "# === CONFIGURATION ===\n",
    "input_files = [\n",
    "    '2015.nc', '2016.nc', '2017.nc', '2018.nc', '2019.nc',\n",
    "    '2020.nc', '2021.nc', '2022.nc', '2023.nc', '2024.nc'\n",
    "]\n",
    "output_csv_file = 'wind_speed_100m_10min_2015_2024.csv'\n",
    "\n",
    "# === PROCESS FILES ===\n",
    "all_dfs = []\n",
    "\n",
    "for input_file in input_files:\n",
    "    print(f\"📂 Processing {input_file}...\")\n",
    "\n",
    "    ds = xr.open_dataset(input_file)\n",
    "\n",
    "    # Collapse to point if it's a small box\n",
    "    if 'latitude' in ds.dims and 'longitude' in ds.dims:\n",
    "        ds = ds.mean(dim=['latitude', 'longitude'])\n",
    "\n",
    "    # Compute wind speed\n",
    "    ds['wind_speed_100m'] = np.sqrt(ds['u100']**2 + ds['v100']**2)\n",
    "\n",
    "    # Determine time column name\n",
    "    time_col = 'valid_time' if 'valid_time' in ds.coords else 'time'\n",
    "\n",
    "    # Convert to DataFrame\n",
    "    df = ds[['wind_speed_100m']].to_dataframe().reset_index()\n",
    "\n",
    "    # Rename time column to 'timestamp'\n",
    "    df.rename(columns={time_col: 'timestamp'}, inplace=True)\n",
    "\n",
    "    # Interpolate to 10-minute resolution\n",
    "    df.set_index('timestamp', inplace=True)\n",
    "    df = df.resample('10T').interpolate(method='linear')\n",
    "    df = df.reset_index()\n",
    "\n",
    "    # Keep only timestamp and wind_speed_100m\n",
    "    all_dfs.append(df[['timestamp', 'wind_speed_100m']])\n",
    "\n",
    "# === COMBINE AND EXPORT ===\n",
    "final_df = pd.concat(all_dfs).sort_values(by='timestamp').reset_index(drop=True)\n",
    "final_df.to_csv(output_csv_file, index=False)\n",
    "\n",
    "print(f\"✅ All done! 10-min CSV saved to: {output_csv_file}\")\n"
   ]
  },
  {
   "cell_type": "code",
   "execution_count": null,
   "id": "e6842d8a-4531-4358-95d3-3131f2b68e61",
   "metadata": {},
   "outputs": [],
   "source": []
  }
 ],
 "metadata": {
  "kernelspec": {
   "display_name": "Python 3 (ipykernel)",
   "language": "python",
   "name": "python3"
  },
  "language_info": {
   "codemirror_mode": {
    "name": "ipython",
    "version": 3
   },
   "file_extension": ".py",
   "mimetype": "text/x-python",
   "name": "python",
   "nbconvert_exporter": "python",
   "pygments_lexer": "ipython3",
   "version": "3.12.3"
  }
 },
 "nbformat": 4,
 "nbformat_minor": 5
}
