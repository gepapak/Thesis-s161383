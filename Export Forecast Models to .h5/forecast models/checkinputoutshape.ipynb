{
 "cells": [
  {
   "cell_type": "code",
   "execution_count": 1,
   "metadata": {},
   "outputs": [
    {
     "name": "stdout",
     "output_type": "stream",
     "text": [
      "\n",
      "✅ ceemdan_lstm_load.h5\n",
      "Input shape : (None, 1, 6)\n",
      "Output shape: (None, 1)\n",
      "\n",
      "✅ ceemdan_lstm_solar.h5\n",
      "Input shape : (None, 1, 6)\n",
      "Output shape: (None, 1)\n",
      "\n",
      "✅ emd_lstm_hydro.h5\n",
      "Input shape : (None, 1, 6)\n",
      "Output shape: (None, 1)\n",
      "\n",
      "✅ karijadi_market_price.h5\n",
      "Input shape : (None, 6, 1)\n",
      "Output shape: (None, 1)\n",
      "\n",
      "✅ karijadi_wind.h5\n",
      "Input shape : (None, 6, 1)\n",
      "Output shape: (None, 1)\n"
     ]
    }
   ],
   "source": [
    "import tensorflow as tf\n",
    "import os\n",
    "\n",
    "model_dir = \"forecastmodelstobeused\"  # e.g., \"./forecast_models\"\n",
    "for fname in os.listdir(model_dir):\n",
    "    if fname.endswith(\".h5\"):\n",
    "        path = os.path.join(model_dir, fname)\n",
    "        try:\n",
    "            model = tf.keras.models.load_model(path, compile=False)\n",
    "            print(f\"\\n✅ {fname}\")\n",
    "            print(\"Input shape :\", model.input_shape)\n",
    "            print(\"Output shape:\", model.output_shape)\n",
    "        except Exception as e:\n",
    "            print(f\"❌ Error loading {fname}: {e}\")"
   ]
  }
 ],
 "metadata": {
  "kernelspec": {
   "display_name": "base",
   "language": "python",
   "name": "python3"
  },
  "language_info": {
   "codemirror_mode": {
    "name": "ipython",
    "version": 3
   },
   "file_extension": ".py",
   "mimetype": "text/x-python",
   "name": "python",
   "nbconvert_exporter": "python",
   "pygments_lexer": "ipython3",
   "version": "3.12.3"
  }
 },
 "nbformat": 4,
 "nbformat_minor": 2
}
