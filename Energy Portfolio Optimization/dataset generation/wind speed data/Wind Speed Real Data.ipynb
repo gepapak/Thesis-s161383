{
 "cells": [
  {
   "cell_type": "code",
   "execution_count": 14,
   "id": "59573d67-8f12-4862-a262-1500051cfbc2",
   "metadata": {},
   "outputs": [
    {
     "name": "stdout",
     "output_type": "stream",
     "text": [
      "📂 Processing 2015.nc...\n",
      "📂 Processing 2016.nc...\n",
      "📂 Processing 2017.nc...\n",
      "📂 Processing 2018.nc...\n"
     ]
    },
    {
     "name": "stderr",
     "output_type": "stream",
     "text": [
      "C:\\Users\\gepap\\AppData\\Local\\Temp\\ipykernel_3312\\268867624.py:38: FutureWarning: 'T' is deprecated and will be removed in a future version, please use 'min' instead.\n",
      "  df = df.resample('10T').interpolate(method='linear')\n",
      "C:\\Users\\gepap\\AppData\\Local\\Temp\\ipykernel_3312\\268867624.py:38: FutureWarning: DataFrame.interpolate with object dtype is deprecated and will raise in a future version. Call obj.infer_objects(copy=False) before interpolating instead.\n",
      "  df = df.resample('10T').interpolate(method='linear')\n",
      "C:\\Users\\gepap\\AppData\\Local\\Temp\\ipykernel_3312\\268867624.py:38: FutureWarning: 'T' is deprecated and will be removed in a future version, please use 'min' instead.\n",
      "  df = df.resample('10T').interpolate(method='linear')\n",
      "C:\\Users\\gepap\\AppData\\Local\\Temp\\ipykernel_3312\\268867624.py:38: FutureWarning: DataFrame.interpolate with object dtype is deprecated and will raise in a future version. Call obj.infer_objects(copy=False) before interpolating instead.\n",
      "  df = df.resample('10T').interpolate(method='linear')\n",
      "C:\\Users\\gepap\\AppData\\Local\\Temp\\ipykernel_3312\\268867624.py:38: FutureWarning: 'T' is deprecated and will be removed in a future version, please use 'min' instead.\n",
      "  df = df.resample('10T').interpolate(method='linear')\n",
      "C:\\Users\\gepap\\AppData\\Local\\Temp\\ipykernel_3312\\268867624.py:38: FutureWarning: DataFrame.interpolate with object dtype is deprecated and will raise in a future version. Call obj.infer_objects(copy=False) before interpolating instead.\n",
      "  df = df.resample('10T').interpolate(method='linear')\n",
      "C:\\Users\\gepap\\AppData\\Local\\Temp\\ipykernel_3312\\268867624.py:38: FutureWarning: 'T' is deprecated and will be removed in a future version, please use 'min' instead.\n",
      "  df = df.resample('10T').interpolate(method='linear')\n",
      "C:\\Users\\gepap\\AppData\\Local\\Temp\\ipykernel_3312\\268867624.py:38: FutureWarning: DataFrame.interpolate with object dtype is deprecated and will raise in a future version. Call obj.infer_objects(copy=False) before interpolating instead.\n",
      "  df = df.resample('10T').interpolate(method='linear')\n",
      "C:\\Users\\gepap\\AppData\\Local\\Temp\\ipykernel_3312\\268867624.py:38: FutureWarning: 'T' is deprecated and will be removed in a future version, please use 'min' instead.\n",
      "  df = df.resample('10T').interpolate(method='linear')\n",
      "C:\\Users\\gepap\\AppData\\Local\\Temp\\ipykernel_3312\\268867624.py:38: FutureWarning: DataFrame.interpolate with object dtype is deprecated and will raise in a future version. Call obj.infer_objects(copy=False) before interpolating instead.\n",
      "  df = df.resample('10T').interpolate(method='linear')\n"
     ]
    },
    {
     "name": "stdout",
     "output_type": "stream",
     "text": [
      "📂 Processing 2019.nc...\n",
      "📂 Processing 2020.nc...\n",
      "📂 Processing 2021.nc...\n",
      "📂 Processing 2022.nc...\n",
      "📂 Processing 2023.nc...\n"
     ]
    },
    {
     "name": "stderr",
     "output_type": "stream",
     "text": [
      "C:\\Users\\gepap\\AppData\\Local\\Temp\\ipykernel_3312\\268867624.py:38: FutureWarning: 'T' is deprecated and will be removed in a future version, please use 'min' instead.\n",
      "  df = df.resample('10T').interpolate(method='linear')\n",
      "C:\\Users\\gepap\\AppData\\Local\\Temp\\ipykernel_3312\\268867624.py:38: FutureWarning: DataFrame.interpolate with object dtype is deprecated and will raise in a future version. Call obj.infer_objects(copy=False) before interpolating instead.\n",
      "  df = df.resample('10T').interpolate(method='linear')\n",
      "C:\\Users\\gepap\\AppData\\Local\\Temp\\ipykernel_3312\\268867624.py:38: FutureWarning: 'T' is deprecated and will be removed in a future version, please use 'min' instead.\n",
      "  df = df.resample('10T').interpolate(method='linear')\n",
      "C:\\Users\\gepap\\AppData\\Local\\Temp\\ipykernel_3312\\268867624.py:38: FutureWarning: DataFrame.interpolate with object dtype is deprecated and will raise in a future version. Call obj.infer_objects(copy=False) before interpolating instead.\n",
      "  df = df.resample('10T').interpolate(method='linear')\n",
      "C:\\Users\\gepap\\AppData\\Local\\Temp\\ipykernel_3312\\268867624.py:38: FutureWarning: 'T' is deprecated and will be removed in a future version, please use 'min' instead.\n",
      "  df = df.resample('10T').interpolate(method='linear')\n",
      "C:\\Users\\gepap\\AppData\\Local\\Temp\\ipykernel_3312\\268867624.py:38: FutureWarning: DataFrame.interpolate with object dtype is deprecated and will raise in a future version. Call obj.infer_objects(copy=False) before interpolating instead.\n",
      "  df = df.resample('10T').interpolate(method='linear')\n",
      "C:\\Users\\gepap\\AppData\\Local\\Temp\\ipykernel_3312\\268867624.py:38: FutureWarning: 'T' is deprecated and will be removed in a future version, please use 'min' instead.\n",
      "  df = df.resample('10T').interpolate(method='linear')\n",
      "C:\\Users\\gepap\\AppData\\Local\\Temp\\ipykernel_3312\\268867624.py:38: FutureWarning: DataFrame.interpolate with object dtype is deprecated and will raise in a future version. Call obj.infer_objects(copy=False) before interpolating instead.\n",
      "  df = df.resample('10T').interpolate(method='linear')\n",
      "C:\\Users\\gepap\\AppData\\Local\\Temp\\ipykernel_3312\\268867624.py:38: FutureWarning: 'T' is deprecated and will be removed in a future version, please use 'min' instead.\n",
      "  df = df.resample('10T').interpolate(method='linear')\n",
      "C:\\Users\\gepap\\AppData\\Local\\Temp\\ipykernel_3312\\268867624.py:38: FutureWarning: DataFrame.interpolate with object dtype is deprecated and will raise in a future version. Call obj.infer_objects(copy=False) before interpolating instead.\n",
      "  df = df.resample('10T').interpolate(method='linear')\n"
     ]
    },
    {
     "name": "stdout",
     "output_type": "stream",
     "text": [
      "📂 Processing 2024.nc...\n",
      "✅ All done! 10-min CSV saved to: wind_speed_100m_10min_2015_2024.csv\n"
     ]
    }
   ],
   "source": [
    "import xarray as xr\n",
    "import numpy as np\n",
    "import pandas as pd\n",
    "\n",
    "# === CONFIGURATION ===\n",
    "input_files = [\n",
    "    '2015.nc', '2016.nc', '2017.nc', '2018.nc', '2019.nc',\n",
    "    '2020.nc', '2021.nc', '2022.nc', '2023.nc', '2024.nc'\n",
    "]\n",
    "output_csv_file = 'wind_speed_100m_10min_2015_2024.csv'\n",
    "\n",
    "# === PROCESS FILES ===\n",
    "all_dfs = []\n",
    "\n",
    "for input_file in input_files:\n",
    "    print(f\"📂 Processing {input_file}...\")\n",
    "\n",
    "    ds = xr.open_dataset(input_file)\n",
    "\n",
    "    # Collapse to point if it's a small box\n",
    "    if 'latitude' in ds.dims and 'longitude' in ds.dims:\n",
    "        ds = ds.mean(dim=['latitude', 'longitude'])\n",
    "\n",
    "    # Compute wind speed\n",
    "    ds['wind_speed_100m'] = np.sqrt(ds['u100']**2 + ds['v100']**2)\n",
    "\n",
    "    # Determine time column name\n",
    "    time_col = 'valid_time' if 'valid_time' in ds.coords else 'time'\n",
    "\n",
    "    # Convert to DataFrame\n",
    "    df = ds[['wind_speed_100m']].to_dataframe().reset_index()\n",
    "\n",
    "    # Rename time column to 'timestamp'\n",
    "    df.rename(columns={time_col: 'timestamp'}, inplace=True)\n",
    "\n",
    "    # Interpolate to 10-minute resolution\n",
    "    df.set_index('timestamp', inplace=True)\n",
    "    df = df.resample('10T').interpolate(method='linear')\n",
    "    df = df.reset_index()\n",
    "\n",
    "    # Keep only timestamp and wind_speed_100m\n",
    "    all_dfs.append(df[['timestamp', 'wind_speed_100m']])\n",
    "\n",
    "# === COMBINE AND EXPORT ===\n",
    "final_df = pd.concat(all_dfs).sort_values(by='timestamp').reset_index(drop=True)\n",
    "final_df.to_csv(output_csv_file, index=False)\n",
    "\n",
    "print(f\"✅ All done! 10-min CSV saved to: {output_csv_file}\")\n"
   ]
  },
  {
   "cell_type": "code",
   "execution_count": null,
   "id": "e6842d8a-4531-4358-95d3-3131f2b68e61",
   "metadata": {},
   "outputs": [],
   "source": []
  }
 ],
 "metadata": {
  "kernelspec": {
   "display_name": "Python 3 (ipykernel)",
   "language": "python",
   "name": "python3"
  },
  "language_info": {
   "codemirror_mode": {
    "name": "ipython",
    "version": 3
   },
   "file_extension": ".py",
   "mimetype": "text/x-python",
   "name": "python",
   "nbconvert_exporter": "python",
   "pygments_lexer": "ipython3",
   "version": "3.12.3"
  }
 },
 "nbformat": 4,
 "nbformat_minor": 5
}
