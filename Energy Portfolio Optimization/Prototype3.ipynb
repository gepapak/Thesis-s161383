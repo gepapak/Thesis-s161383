{
  "nbformat": 4,
  "nbformat_minor": 0,
  "metadata": {
    "colab": {
      "provenance": []
    },
    "kernelspec": {
      "name": "python3",
      "display_name": "Python 3"
    },
    "language_info": {
      "name": "python"
    }
  },
  "cells": [
    {
      "cell_type": "code",
      "execution_count": null,
      "metadata": {
        "id": "L_kQxVZvB0nt"
      },
      "outputs": [],
      "source": [
        "from google.colab import drive\n",
        "drive.mount('/content/drive')"
      ]
    },
    {
      "cell_type": "code",
      "source": [
        "%cd /content/drive/MyDrive/Prototype3Basic/"
      ],
      "metadata": {
        "id": "baKyDGqeCVJ7"
      },
      "execution_count": null,
      "outputs": []
    },
    {
      "cell_type": "code",
      "source": [
        "!pip install -r requirements.txt"
      ],
      "metadata": {
        "id": "LdRLJoyqDVIY"
      },
      "execution_count": null,
      "outputs": []
    },
    {
      "cell_type": "code",
      "source": [
        "!pip install pettingzoo"
      ],
      "metadata": {
        "id": "Zcf9MkJ3ETYT"
      },
      "execution_count": null,
      "outputs": []
    },
    {
      "cell_type": "code",
      "source": [
        "!pip install optuna"
      ],
      "metadata": {
        "id": "jaOlgh5eE4Wb"
      },
      "execution_count": null,
      "outputs": []
    },
    {
      "cell_type": "code",
      "source": [
        "!python main.py --episode_training --episode_data_dir training_dataset --start_episode 0 --end_episode 2 --cooling_period 1 --save_dir normal --checkpoint_freq 5000"
      ],
      "metadata": {
        "id": "-Tn4soURCanm"
      },
      "execution_count": null,
      "outputs": []
    },
    {
      "cell_type": "code",
      "source": [
        "!python main.py --episode_training --episode_data_dir training_dataset --start_episode 3 --end_episode 5 --cooling_period 1 --save_dir normal --checkpoint_freq 5000 --resume_episode 2"
      ],
      "metadata": {
        "id": "ZygfHxyrG2O8"
      },
      "execution_count": null,
      "outputs": []
    },
    {
      "cell_type": "code",
      "source": [
        "!python main.py --episode_training --episode_data_dir training_dataset --start_episode 6 --end_episode 8 --cooling_period 1 --save_dir normal --checkpoint_freq 5000 --resume_episode 5"
      ],
      "metadata": {
        "id": "YLOGWU-UW4fM"
      },
      "execution_count": null,
      "outputs": []
    },
    {
      "cell_type": "code",
      "source": [
        "!python main.py --episode_training --episode_data_dir training_dataset --start_episode 9 --end_episode 11 --cooling_period 1 --save_dir normal --checkpoint_freq 5000 --resume_episode 8"
      ],
      "metadata": {
        "id": "bCILzMZ4W96r"
      },
      "execution_count": null,
      "outputs": []
    },
    {
      "cell_type": "code",
      "source": [
        "!python main.py --episode_training --episode_data_dir training_dataset --start_episode 12 --end_episode 14 --cooling_period 1 --save_dir normal --checkpoint_freq 5000 --resume_episode 11"
      ],
      "metadata": {
        "id": "5b22diOKXD9h"
      },
      "execution_count": null,
      "outputs": []
    },
    {
      "cell_type": "code",
      "source": [
        "!python main.py --episode_training --episode_data_dir training_dataset --start_episode 15 --end_episode 17 --cooling_period 1 --save_dir normal --checkpoint_freq 5000 --resume_episode 14"
      ],
      "metadata": {
        "id": "8xFSk6svXUpT"
      },
      "execution_count": null,
      "outputs": []
    },
    {
      "cell_type": "code",
      "source": [
        "!python main.py --episode_training --episode_data_dir training_dataset --start_episode 18 --end_episode 19 --cooling_period 1 --save_dir normal --checkpoint_freq 5000 --resume_episode 17"
      ],
      "metadata": {
        "id": "snUiXbw6XVPN"
      },
      "execution_count": null,
      "outputs": []
    }
  ]
}